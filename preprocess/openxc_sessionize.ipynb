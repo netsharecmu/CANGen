{
 "cells": [
  {
   "cell_type": "code",
   "execution_count": 3,
   "metadata": {},
   "outputs": [
    {
     "name": "stdout",
     "output_type": "stream",
     "text": [
      "Number of rows in the DataFrame:  319343\n",
      "Number of groups:  21\n",
      "Max number of rows in a group:  166462\n",
      "Group key:  (0, False)\n",
      "Group key:  (0, True)\n",
      "Group key:  (1, False)\n",
      "Group key:  (2, False)\n",
      "Group key:  (3, False)\n",
      "Group key:  (4, False)\n",
      "Group key:  (5, False)\n",
      "Group key:  (6, False)\n",
      "Group key:  (7, False)\n",
      "Group key:  (8, False)\n",
      "Group key:  (9, False)\n",
      "Group key:  (10, False)\n",
      "Group key:  (11, False)\n",
      "Group key:  (12, False)\n",
      "Group key:  (13, False)\n",
      "Group key:  (14, False)\n",
      "Group key:  (15, False)\n",
      "Group key:  (16, False)\n",
      "Group key:  (17, False)\n",
      "Group key:  (18, False)\n",
      "Group key:  (19, False)\n",
      "Number of sessions:  31945\n"
     ]
    }
   ],
   "source": [
    "import pandas as pd\n",
    "\n",
    "import math\n",
    "\n",
    "def openxc_sessionize(df, n_bins=20, num_per_session=10):\n",
    "    # discretize `accelerator_pedal_position` into `n_bins` bins\n",
    "    df['accelerator_pedal_position_binned'] = pd.cut(df['accelerator_pedal_position'], bins=n_bins, labels=False)\n",
    "\n",
    "    # Group by the discretized 'accelerator_pedal_position' and 'brake_pedal_status'\n",
    "    grouped = df.groupby(['accelerator_pedal_position_binned', 'brake_pedal_status'])\n",
    "\n",
    "    # Get max number of rows in a group\n",
    "    print(\"Number of rows in the DataFrame: \", len(df))\n",
    "    print(\"Number of groups: \", grouped.ngroups)\n",
    "    print(\"Max number of rows in a group: \", grouped.size().max())\n",
    "\n",
    "\n",
    "    # Initialize a list to store DataFrame chunks\n",
    "    df_chunks = []\n",
    "\n",
    "    # Global session ID counter\n",
    "    global_session_id = 0\n",
    "\n",
    "    # Iterate over each group\n",
    "    for group_key, group in grouped:\n",
    "        print(\"Group key: \", group_key)\n",
    "        # Calculate the number of sessions in this group\n",
    "        total_rows = len(group)\n",
    "        sessions_in_group = math.ceil(total_rows / num_per_session)  # Ceiling division\n",
    "\n",
    "        # Assign session IDs within this group\n",
    "        for session_number in range(sessions_in_group):\n",
    "            # Determine the row indices for this session\n",
    "            session_start = session_number * num_per_session\n",
    "            session_end = session_start + num_per_session\n",
    "            # Assign the global session ID to these rows\n",
    "            df.loc[group.index[session_start:session_end], 'session_id'] = global_session_id\n",
    "            # Increment the global session ID\n",
    "            global_session_id += 1\n",
    "    \n",
    "    # df.drop(columns=['accelerator_pedal_position'], inplace=True)\n",
    "\n",
    "    # Check if number of sessions is correct\n",
    "    assert global_session_id == df['session_id'].nunique() == df.groupby(['session_id', 'accelerator_pedal_position_binned', 'brake_pedal_status']).ngroups\n",
    "\n",
    "    print(\"Number of sessions: \", global_session_id)\n",
    "    \n",
    "\n",
    "    return df\n",
    "\n",
    "final_df = openxc_sessionize(pd.read_csv(\"../data_selected/openxc/nyc_downtown_east.csv\"))"
   ]
  },
  {
   "cell_type": "code",
   "execution_count": 4,
   "metadata": {},
   "outputs": [
    {
     "data": {
      "text/html": [
       "<div>\n",
       "<style scoped>\n",
       "    .dataframe tbody tr th:only-of-type {\n",
       "        vertical-align: middle;\n",
       "    }\n",
       "\n",
       "    .dataframe tbody tr th {\n",
       "        vertical-align: top;\n",
       "    }\n",
       "\n",
       "    .dataframe thead th {\n",
       "        text-align: right;\n",
       "    }\n",
       "</style>\n",
       "<table border=\"1\" class=\"dataframe\">\n",
       "  <thead>\n",
       "    <tr style=\"text-align: right;\">\n",
       "      <th></th>\n",
       "      <th>timestamp</th>\n",
       "      <th>brake_pedal_status</th>\n",
       "      <th>accelerator_pedal_position</th>\n",
       "      <th>transmission_gear_position</th>\n",
       "      <th>vehicle_speed</th>\n",
       "      <th>engine_speed</th>\n",
       "      <th>accelerator_pedal_position_binned</th>\n",
       "      <th>session_id</th>\n",
       "    </tr>\n",
       "  </thead>\n",
       "  <tbody>\n",
       "    <tr>\n",
       "      <th>0</th>\n",
       "      <td>1.364314e+09</td>\n",
       "      <td>False</td>\n",
       "      <td>0.0</td>\n",
       "      <td>first</td>\n",
       "      <td>0.0</td>\n",
       "      <td>774.0</td>\n",
       "      <td>0</td>\n",
       "      <td>0</td>\n",
       "    </tr>\n",
       "    <tr>\n",
       "      <th>1</th>\n",
       "      <td>1.364314e+09</td>\n",
       "      <td>False</td>\n",
       "      <td>0.0</td>\n",
       "      <td>first</td>\n",
       "      <td>0.0</td>\n",
       "      <td>774.0</td>\n",
       "      <td>0</td>\n",
       "      <td>0</td>\n",
       "    </tr>\n",
       "    <tr>\n",
       "      <th>2</th>\n",
       "      <td>1.364314e+09</td>\n",
       "      <td>False</td>\n",
       "      <td>0.0</td>\n",
       "      <td>first</td>\n",
       "      <td>0.0</td>\n",
       "      <td>774.0</td>\n",
       "      <td>0</td>\n",
       "      <td>0</td>\n",
       "    </tr>\n",
       "    <tr>\n",
       "      <th>3</th>\n",
       "      <td>1.364314e+09</td>\n",
       "      <td>False</td>\n",
       "      <td>0.0</td>\n",
       "      <td>first</td>\n",
       "      <td>0.0</td>\n",
       "      <td>774.0</td>\n",
       "      <td>0</td>\n",
       "      <td>0</td>\n",
       "    </tr>\n",
       "    <tr>\n",
       "      <th>4</th>\n",
       "      <td>1.364314e+09</td>\n",
       "      <td>False</td>\n",
       "      <td>0.0</td>\n",
       "      <td>first</td>\n",
       "      <td>0.0</td>\n",
       "      <td>774.0</td>\n",
       "      <td>0</td>\n",
       "      <td>0</td>\n",
       "    </tr>\n",
       "  </tbody>\n",
       "</table>\n",
       "</div>"
      ],
      "text/plain": [
       "      timestamp  brake_pedal_status  accelerator_pedal_position  \\\n",
       "0  1.364314e+09               False                         0.0   \n",
       "1  1.364314e+09               False                         0.0   \n",
       "2  1.364314e+09               False                         0.0   \n",
       "3  1.364314e+09               False                         0.0   \n",
       "4  1.364314e+09               False                         0.0   \n",
       "\n",
       "  transmission_gear_position  vehicle_speed  engine_speed  \\\n",
       "0                      first            0.0         774.0   \n",
       "1                      first            0.0         774.0   \n",
       "2                      first            0.0         774.0   \n",
       "3                      first            0.0         774.0   \n",
       "4                      first            0.0         774.0   \n",
       "\n",
       "   accelerator_pedal_position_binned  session_id  \n",
       "0                                  0           0  \n",
       "1                                  0           0  \n",
       "2                                  0           0  \n",
       "3                                  0           0  \n",
       "4                                  0           0  "
      ]
     },
     "execution_count": 4,
     "metadata": {},
     "output_type": "execute_result"
    }
   ],
   "source": [
    "final_df.head()"
   ]
  },
  {
   "cell_type": "code",
   "execution_count": 6,
   "metadata": {},
   "outputs": [
    {
     "data": {
      "text/plain": [
       "16647"
      ]
     },
     "execution_count": 6,
     "metadata": {},
     "output_type": "execute_result"
    }
   ],
   "source": [
    "len(set(final_df['session_id']))"
   ]
  },
  {
   "cell_type": "code",
   "execution_count": 12,
   "metadata": {},
   "outputs": [
    {
     "data": {
      "text/plain": [
       "{0, 1, 2, 3, 4, 5, 6, 7, 8, 9, 10, 11, 12, 13, 14, 15, 16, 17, 18, 19}"
      ]
     },
     "execution_count": 12,
     "metadata": {},
     "output_type": "execute_result"
    }
   ],
   "source": [
    "set(final_df['accelerator_pedal_position_binned'])"
   ]
  },
  {
   "cell_type": "code",
   "execution_count": 2,
   "metadata": {},
   "outputs": [
    {
     "name": "stdout",
     "output_type": "stream",
     "text": [
      "Number of rows in the DataFrame:  319343\n",
      "Number of groups:  21\n",
      "Max number of rows in a group:  166462\n",
      "Number of sessions:  31945\n",
      "Done with nyc_downtown_east.csv\n",
      "Number of rows in the DataFrame:  416068\n",
      "Number of groups:  21\n",
      "Max number of rows in a group:  151733\n",
      "Number of sessions:  41615\n",
      "Done with taiwan_HighwayNo2_can.csv\n",
      "Number of rows in the DataFrame:  154892\n",
      "Number of groups:  21\n",
      "Max number of rows in a group:  66989\n",
      "Number of sessions:  15502\n",
      "Done with india_New_Delhi_Railway_to_AIIMS.csv\n"
     ]
    }
   ],
   "source": [
    "for csv_file in ['nyc_downtown_east.csv', 'taiwan_HighwayNo2_can.csv', 'india_New_Delhi_Railway_to_AIIMS.csv']:\n",
    "    final_df = openxc_sessionize(pd.read_csv(\"../data_selected/openxc/\" + csv_file))\n",
    "    final_df.to_csv(\"../data_selected/openxc/\" + csv_file[:-4] + \"_sessionized.csv\", index=False)\n",
    "    print(\"Done with \" + csv_file)"
   ]
  },
  {
   "cell_type": "code",
   "execution_count": null,
   "metadata": {},
   "outputs": [],
   "source": []
  }
 ],
 "metadata": {
  "kernelspec": {
   "display_name": "CANGen",
   "language": "python",
   "name": "python3"
  },
  "language_info": {
   "codemirror_mode": {
    "name": "ipython",
    "version": 3
   },
   "file_extension": ".py",
   "mimetype": "text/x-python",
   "name": "python",
   "nbconvert_exporter": "python",
   "pygments_lexer": "ipython3",
   "version": "3.9.18"
  }
 },
 "nbformat": 4,
 "nbformat_minor": 2
}
