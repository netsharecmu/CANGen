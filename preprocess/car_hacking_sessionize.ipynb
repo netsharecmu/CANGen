{
 "cells": [
  {
   "cell_type": "code",
   "execution_count": 1,
   "metadata": {},
   "outputs": [],
   "source": [
    "import pandas as pd\n",
    "\n",
    "df = pd.read_csv(\"../data_selected/car_hacking/DoS_dataset_aligned_train_bits.csv\")"
   ]
  },
  {
   "cell_type": "code",
   "execution_count": 2,
   "metadata": {},
   "outputs": [
    {
     "data": {
      "text/plain": [
       "Index(['Timestamp', 'CAN_ID_0', 'CAN_ID_1', 'CAN_ID_2', 'CAN_ID_3', 'CAN_ID_4',\n",
       "       'CAN_ID_5', 'CAN_ID_6', 'CAN_ID_7', 'CAN_ID_8', 'CAN_ID_9', 'CAN_ID_10',\n",
       "       'DLC', 'DATA_0', 'DATA_1', 'DATA_2', 'DATA_3', 'DATA_4', 'DATA_5',\n",
       "       'DATA_6', 'DATA_7', 'DATA_8', 'DATA_9', 'DATA_10', 'DATA_11', 'DATA_12',\n",
       "       'DATA_13', 'DATA_14', 'DATA_15', 'DATA_16', 'DATA_17', 'DATA_18',\n",
       "       'DATA_19', 'DATA_20', 'DATA_21', 'DATA_22', 'DATA_23', 'DATA_24',\n",
       "       'DATA_25', 'DATA_26', 'DATA_27', 'DATA_28', 'DATA_29', 'DATA_30',\n",
       "       'DATA_31', 'DATA_32', 'DATA_33', 'DATA_34', 'DATA_35', 'DATA_36',\n",
       "       'DATA_37', 'DATA_38', 'DATA_39', 'DATA_40', 'DATA_41', 'DATA_42',\n",
       "       'DATA_43', 'DATA_44', 'DATA_45', 'DATA_46', 'DATA_47', 'DATA_48',\n",
       "       'DATA_49', 'DATA_50', 'DATA_51', 'DATA_52', 'DATA_53', 'DATA_54',\n",
       "       'DATA_55', 'DATA_56', 'DATA_57', 'DATA_58', 'DATA_59', 'DATA_60',\n",
       "       'DATA_61', 'DATA_62', 'DATA_63', 'Label'],\n",
       "      dtype='object')"
      ]
     },
     "execution_count": 2,
     "metadata": {},
     "output_type": "execute_result"
    }
   ],
   "source": [
    "df.columns"
   ]
  },
  {
   "cell_type": "code",
   "execution_count": 3,
   "metadata": {},
   "outputs": [],
   "source": [
    "gk = df.groupby([f'CAN_ID_{i}' for i in range(11)])"
   ]
  },
  {
   "cell_type": "code",
   "execution_count": 6,
   "metadata": {},
   "outputs": [
    {
     "data": {
      "text/plain": [
       "27"
      ]
     },
     "execution_count": 6,
     "metadata": {},
     "output_type": "execute_result"
    }
   ],
   "source": [
    "len(gk)"
   ]
  },
  {
   "cell_type": "code",
   "execution_count": 4,
   "metadata": {},
   "outputs": [
    {
     "name": "stdout",
     "output_type": "stream",
     "text": [
      "Number of rows in the DataFrame:  700000\n",
      "Number of groups:  27\n",
      "Max number of rows in a group:  111992\n",
      "Number of sessions:  70015\n"
     ]
    }
   ],
   "source": [
    "import pandas as pd\n",
    "\n",
    "import math\n",
    "\n",
    "def car_hacking_sessionize(df, num_per_session=10):\n",
    "    df.fillna(0, inplace=True)\n",
    "\n",
    "    grouped = df.groupby([f'CAN_ID_{i}' for i in range(11)])\n",
    "\n",
    "    # Get max number of rows in a group\n",
    "    print(\"Number of rows in the DataFrame: \", len(df))\n",
    "    print(\"Number of groups: \", grouped.ngroups)\n",
    "    print(\"Max number of rows in a group: \", grouped.size().max())\n",
    "\n",
    "    # Global session ID counter\n",
    "    global_session_id = 0\n",
    "\n",
    "    # Iterate over each group\n",
    "    for group_key, group in grouped:\n",
    "        # print(\"Group key: \", group_key)\n",
    "        # Calculate the number of sessions in this group\n",
    "        total_rows = len(group)\n",
    "        sessions_in_group = math.ceil(total_rows / num_per_session)  # Ceiling division\n",
    "\n",
    "        # Assign session IDs within this group\n",
    "        for session_number in range(sessions_in_group):\n",
    "            # Determine the row indices for this session\n",
    "            session_start = session_number * num_per_session\n",
    "            session_end = session_start + num_per_session\n",
    "            # Assign the global session ID to these rows\n",
    "            df.loc[group.index[session_start:session_end], 'session_id'] = global_session_id\n",
    "            # Increment the global session ID\n",
    "            global_session_id += 1\n",
    "    \n",
    "    # Check if number of sessions is correct\n",
    "    assert global_session_id == df['session_id'].nunique() == df.groupby(['session_id'] +  [f'CAN_ID_{i}' for i in range(11)]).ngroups\n",
    "    print(\"Number of sessions: \", global_session_id)\n",
    "\n",
    "    return df\n",
    "\n",
    "final_df = car_hacking_sessionize(pd.read_csv(\"../data_selected/car_hacking/DoS_dataset_aligned_train_bits.csv\"))"
   ]
  },
  {
   "cell_type": "code",
   "execution_count": 5,
   "metadata": {},
   "outputs": [
    {
     "name": "stdout",
     "output_type": "stream",
     "text": [
      "Number of rows in the DataFrame:  700000\n",
      "Number of groups:  27\n",
      "Max number of rows in a group:  111992\n",
      "Number of sessions:  70015\n",
      "Finished DoS\n",
      "Number of rows in the DataFrame:  700000\n",
      "Number of groups:  2048\n",
      "Max number of rows in a group:  33236\n",
      "Number of sessions:  70916\n",
      "Finished Fuzzy\n",
      "Number of rows in the DataFrame:  700000\n",
      "Number of groups:  26\n",
      "Max number of rows in a group:  131665\n",
      "Number of sessions:  70015\n",
      "Finished RPM\n",
      "Number of rows in the DataFrame:  700000\n",
      "Number of groups:  26\n",
      "Max number of rows in a group:  126904\n",
      "Number of sessions:  70013\n",
      "Finished gear\n"
     ]
    }
   ],
   "source": [
    "for csv_name in ['DoS', 'Fuzzy', 'RPM', 'gear']:\n",
    "    csv_filename = f\"../data_selected/car_hacking/{csv_name}_dataset_aligned_train_bits\"\n",
    "\n",
    "    final_df = car_hacking_sessionize(pd.read_csv(f\"{csv_filename}.csv\"))\n",
    "    final_df.to_csv(csv_filename + \"_sessionized.csv\", index=False)\n",
    "\n",
    "    print(f\"Finished {csv_name}\")"
   ]
  },
  {
   "cell_type": "code",
   "execution_count": null,
   "metadata": {},
   "outputs": [],
   "source": []
  }
 ],
 "metadata": {
  "kernelspec": {
   "display_name": "CANGen",
   "language": "python",
   "name": "python3"
  },
  "language_info": {
   "codemirror_mode": {
    "name": "ipython",
    "version": 3
   },
   "file_extension": ".py",
   "mimetype": "text/x-python",
   "name": "python",
   "nbconvert_exporter": "python",
   "pygments_lexer": "ipython3",
   "version": "3.9.18"
  }
 },
 "nbformat": 4,
 "nbformat_minor": 2
}
