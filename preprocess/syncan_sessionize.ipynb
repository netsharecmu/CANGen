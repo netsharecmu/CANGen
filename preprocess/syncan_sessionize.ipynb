{
 "cells": [
  {
   "cell_type": "code",
   "execution_count": 1,
   "metadata": {},
   "outputs": [],
   "source": [
    "import pandas as pd\n",
    "\n",
    "df = pd.read_csv(\"../data_selected/syncan/train_flags.csv\")"
   ]
  },
  {
   "cell_type": "code",
   "execution_count": 2,
   "metadata": {},
   "outputs": [
    {
     "data": {
      "text/plain": [
       "Index(['Label', 'Time', 'ID', 'Signal1', 'Signal2', 'Signal3', 'Signal4',\n",
       "       'Signal1_Missing', 'Signal2_Missing', 'Signal3_Missing',\n",
       "       'Signal4_Missing'],\n",
       "      dtype='object')"
      ]
     },
     "execution_count": 2,
     "metadata": {},
     "output_type": "execute_result"
    }
   ],
   "source": [
    "df.columns"
   ]
  },
  {
   "cell_type": "code",
   "execution_count": 3,
   "metadata": {},
   "outputs": [
    {
     "name": "stdout",
     "output_type": "stream",
     "text": [
      "Number of rows in the DataFrame:  1000000\n",
      "Number of groups:  10\n",
      "Max number of rows in a group:  140123\n",
      "Number of sessions:  100005\n"
     ]
    }
   ],
   "source": [
    "import pandas as pd\n",
    "\n",
    "import math\n",
    "\n",
    "def car_hacking_sessionize(df, num_per_session=10):\n",
    "    df.fillna(0, inplace=True)\n",
    "\n",
    "    grouped = df.groupby(['ID'])\n",
    "\n",
    "    # Get max number of rows in a group\n",
    "    print(\"Number of rows in the DataFrame: \", len(df))\n",
    "    print(\"Number of groups: \", grouped.ngroups)\n",
    "    print(\"Max number of rows in a group: \", grouped.size().max())\n",
    "\n",
    "    # Global session ID counter\n",
    "    global_session_id = 0\n",
    "\n",
    "    # Iterate over each group\n",
    "    for group_key, group in grouped:\n",
    "        # print(\"Group key: \", group_key)\n",
    "        # Calculate the number of sessions in this group\n",
    "        total_rows = len(group)\n",
    "        sessions_in_group = math.ceil(total_rows / num_per_session)  # Ceiling division\n",
    "\n",
    "        # Assign session IDs within this group\n",
    "        for session_number in range(sessions_in_group):\n",
    "            # Determine the row indices for this session\n",
    "            session_start = session_number * num_per_session\n",
    "            session_end = session_start + num_per_session\n",
    "            # Assign the global session ID to these rows\n",
    "            df.loc[group.index[session_start:session_end], 'session_id'] = global_session_id\n",
    "            # Increment the global session ID\n",
    "            global_session_id += 1\n",
    "    \n",
    "    # Check if number of sessions is correct\n",
    "    assert global_session_id == df['session_id'].nunique() == df.groupby(['session_id', 'ID']).ngroups\n",
    "    print(\"Number of sessions: \", global_session_id)\n",
    "\n",
    "    return df\n",
    "\n",
    "final_df = car_hacking_sessionize(pd.read_csv(\"../data_selected/syncan/train_flags.csv\"))"
   ]
  },
  {
   "cell_type": "code",
   "execution_count": 4,
   "metadata": {},
   "outputs": [],
   "source": [
    "final_df.to_csv(\"../data_selected/syncan/train_flags_sessionized.csv\", index=False)"
   ]
  },
  {
   "cell_type": "code",
   "execution_count": null,
   "metadata": {},
   "outputs": [],
   "source": []
  }
 ],
 "metadata": {
  "kernelspec": {
   "display_name": "CANGen",
   "language": "python",
   "name": "python3"
  },
  "language_info": {
   "codemirror_mode": {
    "name": "ipython",
    "version": 3
   },
   "file_extension": ".py",
   "mimetype": "text/x-python",
   "name": "python",
   "nbconvert_exporter": "python",
   "pygments_lexer": "ipython3",
   "version": "3.9.18"
  }
 },
 "nbformat": 4,
 "nbformat_minor": 2
}
